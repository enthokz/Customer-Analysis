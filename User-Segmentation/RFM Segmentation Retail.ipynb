{
 "cells": [
  {
   "cell_type": "markdown",
   "id": "74d6c131",
   "metadata": {},
   "source": [
    "## **Background**"
   ]
  },
  {
   "cell_type": "markdown",
   "id": "71d9798a",
   "metadata": {},
   "source": [
    "The Customers have different characters based on several things, such as demography, culture, and behaviors. Segmentation could be the ways to grouping that differences into a group that has similar characters. "
   ]
  },
  {
   "cell_type": "code",
   "execution_count": 2,
   "id": "0abcf288",
   "metadata": {},
   "outputs": [],
   "source": [
    "import pandas as pd\n",
    "import numpy as np\n",
    "import datetime as dt\n",
    "import matplotlib.pyplot as plt\n",
    "import seaborn as sns"
   ]
  },
  {
   "cell_type": "code",
   "execution_count": 6,
   "id": "6afbab27",
   "metadata": {},
   "outputs": [
    {
     "data": {
      "text/html": [
       "<div>\n",
       "<style scoped>\n",
       "    .dataframe tbody tr th:only-of-type {\n",
       "        vertical-align: middle;\n",
       "    }\n",
       "\n",
       "    .dataframe tbody tr th {\n",
       "        vertical-align: top;\n",
       "    }\n",
       "\n",
       "    .dataframe thead th {\n",
       "        text-align: right;\n",
       "    }\n",
       "</style>\n",
       "<table border=\"1\" class=\"dataframe\">\n",
       "  <thead>\n",
       "    <tr style=\"text-align: right;\">\n",
       "      <th></th>\n",
       "      <th>order_id</th>\n",
       "      <th>product_code</th>\n",
       "      <th>product_name</th>\n",
       "      <th>quantity</th>\n",
       "      <th>order_date</th>\n",
       "      <th>price</th>\n",
       "      <th>customer_id</th>\n",
       "    </tr>\n",
       "  </thead>\n",
       "  <tbody>\n",
       "    <tr>\n",
       "      <th>0</th>\n",
       "      <td>493410</td>\n",
       "      <td>TEST001</td>\n",
       "      <td>This is a test product.</td>\n",
       "      <td>5</td>\n",
       "      <td>2010-01-04 09:24:00</td>\n",
       "      <td>4.50</td>\n",
       "      <td>12346.0</td>\n",
       "    </tr>\n",
       "    <tr>\n",
       "      <th>1</th>\n",
       "      <td>C493411</td>\n",
       "      <td>21539</td>\n",
       "      <td>RETRO SPOTS BUTTER DISH</td>\n",
       "      <td>-1</td>\n",
       "      <td>2010-01-04 09:43:00</td>\n",
       "      <td>4.25</td>\n",
       "      <td>14590.0</td>\n",
       "    </tr>\n",
       "    <tr>\n",
       "      <th>2</th>\n",
       "      <td>493412</td>\n",
       "      <td>TEST001</td>\n",
       "      <td>This is a test product.</td>\n",
       "      <td>5</td>\n",
       "      <td>2010-01-04 09:53:00</td>\n",
       "      <td>4.50</td>\n",
       "      <td>12346.0</td>\n",
       "    </tr>\n",
       "    <tr>\n",
       "      <th>3</th>\n",
       "      <td>493413</td>\n",
       "      <td>21724</td>\n",
       "      <td>PANDA AND BUNNIES STICKER SHEET</td>\n",
       "      <td>1</td>\n",
       "      <td>2010-01-04 09:54:00</td>\n",
       "      <td>0.85</td>\n",
       "      <td>NaN</td>\n",
       "    </tr>\n",
       "    <tr>\n",
       "      <th>4</th>\n",
       "      <td>493413</td>\n",
       "      <td>84578</td>\n",
       "      <td>ELEPHANT TOY WITH BLUE T-SHIRT</td>\n",
       "      <td>1</td>\n",
       "      <td>2010-01-04 09:54:00</td>\n",
       "      <td>3.75</td>\n",
       "      <td>NaN</td>\n",
       "    </tr>\n",
       "  </tbody>\n",
       "</table>\n",
       "</div>"
      ],
      "text/plain": [
       "  order_id product_code                     product_name  quantity  \\\n",
       "0   493410      TEST001          This is a test product.         5   \n",
       "1  C493411        21539          RETRO SPOTS BUTTER DISH        -1   \n",
       "2   493412      TEST001          This is a test product.         5   \n",
       "3   493413        21724  PANDA AND BUNNIES STICKER SHEET         1   \n",
       "4   493413        84578   ELEPHANT TOY WITH BLUE T-SHIRT         1   \n",
       "\n",
       "            order_date  price  customer_id  \n",
       "0  2010-01-04 09:24:00   4.50      12346.0  \n",
       "1  2010-01-04 09:43:00   4.25      14590.0  \n",
       "2  2010-01-04 09:53:00   4.50      12346.0  \n",
       "3  2010-01-04 09:54:00   0.85          NaN  \n",
       "4  2010-01-04 09:54:00   3.75          NaN  "
      ]
     },
     "execution_count": 6,
     "metadata": {},
     "output_type": "execute_result"
    }
   ],
   "source": [
    "# Import dataset\n",
    "pail= 'https://drive.google.com/file/d/1ELg9NNsaC44Q8r-Y7i8UKzUwZuNKFEom/view?usp=sharing'\n",
    "url= 'https://drive.google.com/uc?id=' + pail.split('/')[-2]\n",
    "datar= pd.read_csv(url)\n",
    "datar.head()"
   ]
  },
  {
   "cell_type": "code",
   "execution_count": null,
   "id": "77aeb794",
   "metadata": {},
   "outputs": [],
   "source": []
  }
 ],
 "metadata": {
  "kernelspec": {
   "display_name": "base",
   "language": "python",
   "name": "python3"
  },
  "language_info": {
   "codemirror_mode": {
    "name": "ipython",
    "version": 3
   },
   "file_extension": ".py",
   "mimetype": "text/x-python",
   "name": "python",
   "nbconvert_exporter": "python",
   "pygments_lexer": "ipython3",
   "version": "3.13.5"
  }
 },
 "nbformat": 4,
 "nbformat_minor": 5
}
